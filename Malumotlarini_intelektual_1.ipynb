{
  "nbformat": 4,
  "nbformat_minor": 0,
  "metadata": {
    "colab": {
      "provenance": [],
      "authorship_tag": "ABX9TyMrsPhnQtzejvFGvKiUS7ok",
      "include_colab_link": true
    },
    "kernelspec": {
      "name": "python3",
      "display_name": "Python 3"
    },
    "language_info": {
      "name": "python"
    }
  },
  "cells": [
    {
      "cell_type": "markdown",
      "metadata": {
        "id": "view-in-github",
        "colab_type": "text"
      },
      "source": [
        "<a href=\"https://colab.research.google.com/github/dilshod1301/5-topshiriq/blob/main/Malumotlarini_intelektual_1.ipynb\" target=\"_parent\"><img src=\"https://colab.research.google.com/assets/colab-badge.svg\" alt=\"Open In Colab\"/></a>"
      ]
    },
    {
      "cell_type": "code",
      "execution_count": 9,
      "metadata": {
        "colab": {
          "base_uri": "https://localhost:8080/"
        },
        "id": "8CEPMCNoer7-",
        "outputId": "22304b82-dde4-4a7f-9b97-4438b06f2bb6"
      },
      "outputs": [
        {
          "output_type": "stream",
          "name": "stdout",
          "text": [
            "          Ism  Yoshi   Manzili  Yili  Telefon_raqami\n",
            "0  Dilshodbek     21   Andijon  2004       908291301\n",
            "1      Sardor     22  Farg'ona  2005       931667374\n",
            "2   Abdulaziz     20  Toshkent  2006       952345656\n",
            "3    Gulbahor     19  Namangan  2003       987897879\n",
            "4     Doniyor     17   Andijon  2005       898908989\n"
          ]
        }
      ],
      "source": [
        "import pandas as pd\n",
        "G={\"Ism\":[\"Dilshodbek\",\"Sardor\",\"Abdulaziz\",\"Gulbahor\",\"Doniyor\"],\"Yoshi\":[21,22,20,19,17],\"Manzili\":[\"Andijon\",\"Farg'ona\",\"Toshkent\",\"Namangan\",\"Andijon\"],\"Yili\":[2004,2005,2006,2003,2005],\"Telefon_raqami\":[908291301,931667374,952345656,987897879,898908989]}\n",
        "j2=pd.DataFrame(G)\n",
        "print(j2)"
      ]
    },
    {
      "cell_type": "code",
      "source": [
        "j2 = pd.DataFrame(G)\n",
        "\n",
        "print(\"Yoshi o'sish tartibida:\")\n",
        "print(j2.sort_values(by=\"Yoshi\", ascending=True))"
      ],
      "metadata": {
        "colab": {
          "base_uri": "https://localhost:8080/"
        },
        "id": "dXhhuHDHj7YS",
        "outputId": "6cdc63d4-69a0-4e40-dff6-05fbd68a81c5"
      },
      "execution_count": 10,
      "outputs": [
        {
          "output_type": "stream",
          "name": "stdout",
          "text": [
            "Yoshi o'sish tartibida:\n",
            "          Ism  Yoshi   Manzili  Yili  Telefon_raqami\n",
            "4     Doniyor     17   Andijon  2005       898908989\n",
            "3    Gulbahor     19  Namangan  2003       987897879\n",
            "2   Abdulaziz     20  Toshkent  2006       952345656\n",
            "0  Dilshodbek     21   Andijon  2004       908291301\n",
            "1      Sardor     22  Farg'ona  2005       931667374\n"
          ]
        }
      ]
    },
    {
      "cell_type": "code",
      "source": [
        "j2 = pd.DataFrame(G)\n",
        "\n",
        "print(\"\\nYoshi bo‘yicha kamayish tartibida:\")\n",
        "print(j2.sort_values(by=\"Yoshi\", ascending=False))"
      ],
      "metadata": {
        "colab": {
          "base_uri": "https://localhost:8080/"
        },
        "id": "hefYUFUJk9n_",
        "outputId": "2143395e-3137-4a60-8673-edfea7717b49"
      },
      "execution_count": 11,
      "outputs": [
        {
          "output_type": "stream",
          "name": "stdout",
          "text": [
            "\n",
            "Yoshi bo‘yicha kamayish tartibida:\n",
            "          Ism  Yoshi   Manzili  Yili  Telefon_raqami\n",
            "1      Sardor     22  Farg'ona  2005       931667374\n",
            "0  Dilshodbek     21   Andijon  2004       908291301\n",
            "2   Abdulaziz     20  Toshkent  2006       952345656\n",
            "3    Gulbahor     19  Namangan  2003       987897879\n",
            "4     Doniyor     17   Andijon  2005       898908989\n"
          ]
        }
      ]
    },
    {
      "cell_type": "code",
      "source": [
        "j2 = pd.DataFrame(G)\n",
        "\n",
        "# 2-tartib raqamdagi talaba (indeks = 1)\n",
        "print(j2.iloc[1])"
      ],
      "metadata": {
        "colab": {
          "base_uri": "https://localhost:8080/"
        },
        "id": "pHXa8GGilf-Z",
        "outputId": "ece7858e-3cc9-4deb-fdcb-745d03629783"
      },
      "execution_count": 12,
      "outputs": [
        {
          "output_type": "stream",
          "name": "stdout",
          "text": [
            "Ism                  Sardor\n",
            "Yoshi                    22\n",
            "Manzili            Farg'ona\n",
            "Yili                   2005\n",
            "Telefon_raqami    931667374\n",
            "Name: 1, dtype: object\n"
          ]
        }
      ]
    },
    {
      "cell_type": "code",
      "source": [
        "j2 = pd.DataFrame(G)\n",
        "\n",
        "rows, cols = j2.shape\n",
        "print(\"Satrlar soni:\", rows)\n",
        "print(\"Ustunlar soni:\", cols)"
      ],
      "metadata": {
        "colab": {
          "base_uri": "https://localhost:8080/"
        },
        "id": "jk9yRopsmGHs",
        "outputId": "5bdcd74c-340b-4423-8658-d71c429906e8"
      },
      "execution_count": 13,
      "outputs": [
        {
          "output_type": "stream",
          "name": "stdout",
          "text": [
            "Satrlar soni: 5\n",
            "Ustunlar soni: 5\n"
          ]
        }
      ]
    },
    {
      "cell_type": "code",
      "source": [
        "j2 = pd.DataFrame(G)\n",
        "\n",
        "jadval2 = j2[[\"Ism\", \"Telefon_raqami\"]]\n",
        "\n",
        "print(jadval2)"
      ],
      "metadata": {
        "colab": {
          "base_uri": "https://localhost:8080/"
        },
        "id": "oGHw1pyZmw6G",
        "outputId": "b6c550e3-5967-4e4d-fa5b-f506a2a8b8e6"
      },
      "execution_count": 14,
      "outputs": [
        {
          "output_type": "stream",
          "name": "stdout",
          "text": [
            "          Ism  Telefon_raqami\n",
            "0  Dilshodbek       908291301\n",
            "1      Sardor       931667374\n",
            "2   Abdulaziz       952345656\n",
            "3    Gulbahor       987897879\n",
            "4     Doniyor       898908989\n"
          ]
        }
      ]
    },
    {
      "cell_type": "code",
      "source": [
        "j2 = pd.DataFrame(G)\n",
        "\n",
        "print(j2.sort_values(by=\"Ism\"))"
      ],
      "metadata": {
        "colab": {
          "base_uri": "https://localhost:8080/"
        },
        "id": "7P5gWaSXnHRk",
        "outputId": "a8ce956d-5b10-49ba-8b67-f293e106af62"
      },
      "execution_count": 15,
      "outputs": [
        {
          "output_type": "stream",
          "name": "stdout",
          "text": [
            "          Ism  Yoshi   Manzili  Yili  Telefon_raqami\n",
            "2   Abdulaziz     20  Toshkent  2006       952345656\n",
            "0  Dilshodbek     21   Andijon  2004       908291301\n",
            "4     Doniyor     17   Andijon  2005       898908989\n",
            "3    Gulbahor     19  Namangan  2003       987897879\n",
            "1      Sardor     22  Farg'ona  2005       931667374\n"
          ]
        }
      ]
    },
    {
      "cell_type": "code",
      "source": [
        "\n",
        "j2 = pd.DataFrame(G)\n",
        "\n",
        "eng_kichik_2 = j2.sort_values(by=\"Yoshi\").head(2)\n",
        "print(\"Eng kichik 2 nafar talaba:\")\n",
        "print(eng_kichik_2)"
      ],
      "metadata": {
        "colab": {
          "base_uri": "https://localhost:8080/"
        },
        "id": "UjPblHDlogNA",
        "outputId": "c4858287-001c-4f08-ea31-bc4f72f38585"
      },
      "execution_count": 17,
      "outputs": [
        {
          "output_type": "stream",
          "name": "stdout",
          "text": [
            "Eng kichik 2 nafar talaba:\n",
            "        Ism  Yoshi   Manzili  Yili  Telefon_raqami\n",
            "4   Doniyor     17   Andijon  2005       898908989\n",
            "3  Gulbahor     19  Namangan  2003       987897879\n"
          ]
        }
      ]
    }
  ]
}